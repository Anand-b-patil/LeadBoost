{
 "cells": [
  {
   "cell_type": "code",
   "execution_count": null,
   "id": "a94fc915",
   "metadata": {},
   "outputs": [
    {
     "name": "stdout",
     "output_type": "stream",
     "text": [
      "Health: {'status': 'ok'}\n",
      "POST /api/enrich failed: HTTPConnectionPool(host='127.0.0.1', port=5000): Read timed out. (read timeout=10)\n",
      "Enrichment failed or server not reachable.\n",
      "Models: {'models': ['models/gemini-2.5-pro-preview-03-25', 'models/gemini-2.5-flash-preview-05-20', 'models/gemini-2.5-flash', 'models/gemini-2.5-flash-lite-preview-06-17', 'models/gemini-2.5-pro-preview-05-06', 'models/gemini-2.5-pro-preview-06-05', 'models/gemini-2.5-pro', 'models/gemini-2.0-flash-exp', 'models/gemini-2.0-flash', 'models/gemini-2.0-flash-001', 'models/gemini-2.0-flash-exp-image-generation', 'models/gemini-2.0-flash-lite-001', 'models/gemini-2.0-flash-lite', 'models/gemini-2.0-flash-preview-image-generation', 'models/gemini-2.0-flash-lite-preview-02-05', 'models/gemini-2.0-flash-lite-preview', 'models/gemini-2.0-pro-exp', 'models/gemini-2.0-pro-exp-02-05', 'models/gemini-exp-1206', 'models/gemini-2.0-flash-thinking-exp-01-21', 'models/gemini-2.0-flash-thinking-exp', 'models/gemini-2.0-flash-thinking-exp-1219', 'models/gemini-2.5-flash-preview-tts', 'models/gemini-2.5-pro-preview-tts', 'models/learnlm-2.0-flash-experimental', 'models/gemma-3-1b-it', 'models/gemma-3-4b-it', 'models/gemma-3-12b-it', 'models/gemma-3-27b-it', 'models/gemma-3n-e4b-it', 'models/gemma-3n-e2b-it', 'models/gemini-flash-latest', 'models/gemini-flash-lite-latest', 'models/gemini-pro-latest', 'models/gemini-2.5-flash-lite', 'models/gemini-2.5-flash-image-preview', 'models/gemini-2.5-flash-image', 'models/gemini-2.5-flash-preview-09-2025', 'models/gemini-2.5-flash-lite-preview-09-2025', 'models/gemini-robotics-er-1.5-preview']}\n",
      "Generated Text:\n",
      " Subject: Priya, streamlining Freshkart's operations with [SaaS Tool Name]?\n",
      "\n",
      "Hi Priya,\n",
      "\n",
      "Hope you're having a productive week at Freshkart!\n",
      "\n",
      "I'm [Your Name] from [Your Company], and we've been following Freshkart's growth and your commitment to efficient operations with great interest. We know how crucial seamless logistics and inventory management are to your success in delivering fresh produce to your customers.\n",
      "\n",
      "That's why I wanted to reach out about [SaaS Tool Name], our [briefly describe the tool - e.g., cloud-based inventory management software, AI-powered route optimization platform, etc.]. We've helped companies like [mention a similar company or industry - e.g., other food delivery services, companies with complex logistical challenges] streamline their operations and achieve [mention a key benefit - e.g., a 20% reduction in delivery costs, a 15% increase in inventory accuracy, etc.].\n",
      "\n",
      "Based on what I understand about Freshkart's focus on [mention a specific Freshkart value or challenge - e.g., reducing food waste, optimizing delivery routes, ensuring product freshness], I believe [SaaS Tool Name] could be particularly beneficial in [mention specific benefits tailored to Freshkart - e.g., predicting demand more accurately to minimize waste, dynamically optimizing delivery routes based on real-time traffic, ensuring product freshness throughout the supply chain].\n",
      "\n",
      "Would you be open to a quick 15-minute call next week to discuss how [SaaS Tool Name] could help Freshkart further optimize your operations and achieve [mention a desired outcome - e.g., improved customer satisfaction, increased profitability]?\n",
      "\n",
      "Let me know what time works best for you.\n",
      "\n",
      "Thanks for your time, Priya!\n",
      "\n",
      "Best regards,\n",
      "\n",
      "[Your Name]\n",
      "\n",
      "[Your Title]\n",
      "\n",
      "[Your Company]\n",
      "\n",
      "[Your Website]\n",
      "\n",
      "[Your Phone Number (Optional)]\n",
      "\n"
     ]
    }
   ],
   "source": [
    "import requests\n",
    "BASE_URL = \"http://127.0.0.1:5000\"\n",
    "def safe_get(path):\n",
    "    try:\n",
    "        r = requests.get(f\"{BASE_URL}{path}\", timeout=5)\n",
    "        r.raise_for_status()\n",
    "        return r.json()\n",
    "    except requests.RequestException as e:\n",
    "        print(f\"GET {path} failed:\", e)\n",
    "        return None\n",
    "\n",
    "def safe_post(path, payload):\n",
    "    try:\n",
    "        r = requests.post(f\"{BASE_URL}{path}\", json=payload, timeout=10)\n",
    "        r.raise_for_status()\n",
    "        return r.json()\n",
    "    except requests.RequestException as e:\n",
    "        print(f\"POST {path} failed:\", e)\n",
    "        return None\n",
    "\n",
    "health = safe_get('/api/health')\n",
    "print(\"Health:\", health)\n",
    "\n",
    "lead = {\n",
    "    \"name\": \"Priya Sharma\",\n",
    "    \"company\": \"Freshkart Pvt Ltd\",\n",
    "    \"linkedin\": \"https://linkedin.com/in/priyasharma\"\n",
    "}\n",
    "\n",
    "enriched = safe_post('/api/enrich', lead)\n",
    "if enriched:\n",
    "    print(\"Enriched Lead:\", enriched)\n",
    "    print(\"Priority score:\", enriched.get('priority_score'))\n",
    "else:\n",
    "    print(\"Enrichment failed or server not reachable.\")\n",
    "\n",
    "models = safe_get('/api/models')\n",
    "print(\"Models:\", models)\n",
    "\n",
    "payload = {\n",
    "    \"prompt\": \"Write a personalized outreach email for Priya Sharma from Freshkart Pvt Ltd about trying a new SaaS tool.\",\n",
    "    \"model\": \"gemini-2.0-flash\",\n",
    "    \"temperature\": 0.7\n",
    "}\n",
    "\n",
    "gen_response = safe_post('/api/generate', payload)\n",
    "print(\"Generated Text:\\n\", gen_response.get(\"text\") if gen_response else None)\n"
   ]
  },
  {
   "cell_type": "code",
   "execution_count": null,
   "id": "410226d6",
   "metadata": {},
   "outputs": [
    {
     "name": "stdout",
     "output_type": "stream",
     "text": [
      "Enriched Lead: {'ai_insight': 'Priya Sharma is the Head of Marketing at Freshkart. Freshkart is experiencing rapid growth in the online grocery delivery market. They are likely looking for solutions to improve customer acquisition and retention.  Their recent funding round suggests they have budget available for new marketing initiatives.  Potential pain points include managing marketing campaigns across multiple channels and personalizing customer experiences.', 'company': 'Freshkart Pvt Ltd', 'email': 'priya.sharma@freshkartpvtltd.com', 'industry': 'E-commerce, Grocery Delivery', 'is_hot_lead': True, 'linkedin': 'https://linkedin.com/in/priyasharma', 'name': 'Priya Sharma', 'priority_score': 75, 'revenue': 50000000, 'status': 'Medium'}\n",
      "Priority score: 75\n"
     ]
    }
   ],
   "source": [
    "#Enrich a lead and print priority score\n",
    "lead = {\n",
    "    \"name\": \"Priya Sharma\",\n",
    "    \"company\": \"Freshkart Pvt Ltd\",\n",
    "    \"linkedin\": \"https://linkedin.com/in/priyasharma\"\n",
    "}\n",
    "\n",
    "enriched = safe_post('/api/enrich', lead)\n",
    "if enriched:\n",
    "    print(\"Enriched Lead:\", enriched)\n",
    "    print(\"Priority score:\", enriched.get('priority_score'))\n",
    "else:\n",
    "    print(\"Enrichment failed or server not reachable.\")"
   ]
  }
 ],
 "metadata": {
  "kernelspec": {
   "display_name": ".venv",
   "language": "python",
   "name": "python3"
  },
  "language_info": {
   "codemirror_mode": {
    "name": "ipython",
    "version": 3
   },
   "file_extension": ".py",
   "mimetype": "text/x-python",
   "name": "python",
   "nbconvert_exporter": "python",
   "pygments_lexer": "ipython3",
   "version": "3.12.7"
  }
 },
 "nbformat": 4,
 "nbformat_minor": 5
}
